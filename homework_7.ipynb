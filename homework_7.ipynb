{
  "nbformat": 4,
  "nbformat_minor": 0,
  "metadata": {
    "colab": {
      "provenance": []
    },
    "kernelspec": {
      "name": "python3",
      "display_name": "Python 3"
    },
    "language_info": {
      "name": "python"
    }
  },
  "cells": [
    {
      "cell_type": "code",
      "source": [
        "!pip install scikit-surprise\n"
      ],
      "metadata": {
        "colab": {
          "base_uri": "https://localhost:8080/"
        },
        "id": "8jhknMFIvN96",
        "outputId": "6f984fad-f600-4392-923f-db3f0dfd5562"
      },
      "execution_count": 2,
      "outputs": [
        {
          "output_type": "stream",
          "name": "stdout",
          "text": [
            "Collecting scikit-surprise\n",
            "  Downloading scikit-surprise-1.1.3.tar.gz (771 kB)\n",
            "\u001b[?25l     \u001b[90m━━━━━━━━━━━━━━━━━━━━━━━━━━━━━━━━━━━━━━━━\u001b[0m \u001b[32m0.0/772.0 kB\u001b[0m \u001b[31m?\u001b[0m eta \u001b[36m-:--:--\u001b[0m\r\u001b[2K     \u001b[91m━━━━━\u001b[0m\u001b[91m╸\u001b[0m\u001b[90m━━━━━━━━━━━━━━━━━━━━━━━━━━━━━━━━━━\u001b[0m \u001b[32m112.6/772.0 kB\u001b[0m \u001b[31m3.3 MB/s\u001b[0m eta \u001b[36m0:00:01\u001b[0m\r\u001b[2K     \u001b[91m━━━━━━━━━━━━━━━━━━━━━\u001b[0m\u001b[91m╸\u001b[0m\u001b[90m━━━━━━━━━━━━━━━━━━\u001b[0m \u001b[32m419.8/772.0 kB\u001b[0m \u001b[31m6.4 MB/s\u001b[0m eta \u001b[36m0:00:01\u001b[0m\r\u001b[2K     \u001b[91m━━━━━━━━━━━━━━━━━━━━━━━━━━━━━━━━━━━━━━━\u001b[0m\u001b[91m╸\u001b[0m \u001b[32m768.0/772.0 kB\u001b[0m \u001b[31m7.9 MB/s\u001b[0m eta \u001b[36m0:00:01\u001b[0m\r\u001b[2K     \u001b[90m━━━━━━━━━━━━━━━━━━━━━━━━━━━━━━━━━━━━━━━━\u001b[0m \u001b[32m772.0/772.0 kB\u001b[0m \u001b[31m7.3 MB/s\u001b[0m eta \u001b[36m0:00:00\u001b[0m\n",
            "\u001b[?25h  Preparing metadata (setup.py) ... \u001b[?25l\u001b[?25hdone\n",
            "Requirement already satisfied: joblib>=1.0.0 in /usr/local/lib/python3.10/dist-packages (from scikit-surprise) (1.3.2)\n",
            "Requirement already satisfied: numpy>=1.17.3 in /usr/local/lib/python3.10/dist-packages (from scikit-surprise) (1.23.5)\n",
            "Requirement already satisfied: scipy>=1.3.2 in /usr/local/lib/python3.10/dist-packages (from scikit-surprise) (1.11.4)\n",
            "Building wheels for collected packages: scikit-surprise\n",
            "  Building wheel for scikit-surprise (setup.py) ... \u001b[?25l\u001b[?25hdone\n",
            "  Created wheel for scikit-surprise: filename=scikit_surprise-1.1.3-cp310-cp310-linux_x86_64.whl size=3163764 sha256=2295db30e6523a98f8acc4270869fb36b8570bcac98b9da7cfe3dc7f91d797c1\n",
            "  Stored in directory: /root/.cache/pip/wheels/a5/ca/a8/4e28def53797fdc4363ca4af740db15a9c2f1595ebc51fb445\n",
            "Successfully built scikit-surprise\n",
            "Installing collected packages: scikit-surprise\n",
            "Successfully installed scikit-surprise-1.1.3\n"
          ]
        }
      ]
    },
    {
      "cell_type": "code",
      "source": [
        "from surprise import Dataset\n",
        "import pandas as pd\n",
        "data = Dataset.load_builtin('ml-100k')\n",
        "data=pd.DataFrame(data.__dict__['raw_ratings'], columns=['user_id','item_id','rating','timestamp'])\n",
        "data.to_csv('save.csv')"
      ],
      "metadata": {
        "id": "OuxD819avojq"
      },
      "execution_count": 23,
      "outputs": []
    },
    {
      "cell_type": "markdown",
      "source": [
        "# Завантаження даних та визначення читача"
      ],
      "metadata": {
        "id": "2e14pNo1IpZn"
      }
    },
    {
      "cell_type": "code",
      "source": [
        "\n",
        "data = pd.read_csv('save.csv')\n",
        "reader = Reader(rating_scale=(1, 5))"
      ],
      "metadata": {
        "id": "J20n2TOWIkvA"
      },
      "execution_count": 24,
      "outputs": []
    },
    {
      "cell_type": "markdown",
      "source": [
        "# Створення датасету Surprise"
      ],
      "metadata": {
        "id": "YlpjJmwEIrBm"
      }
    },
    {
      "cell_type": "code",
      "source": [
        "data_surprise = Dataset.load_from_df(data[['user_id', 'item_id', 'rating']], reader)"
      ],
      "metadata": {
        "id": "L7k2Mm7SIqj2"
      },
      "execution_count": 25,
      "outputs": []
    },
    {
      "cell_type": "code",
      "source": [
        "param_grid = {'n_epochs': [5, 10, 15],\n",
        "              'lr_all': [0.002, 0.005, 0.01],\n",
        "              'reg_all': [0.4, 0.6, 0.8]}"
      ],
      "metadata": {
        "id": "bXH5PMR3Ilt_"
      },
      "execution_count": 26,
      "outputs": []
    },
    {
      "cell_type": "code",
      "source": [
        "grid_search = GridSearchCV(SVD, param_grid, measures=['RMSE'], cv=5)\n",
        "grid_search.fit(data_surprise)"
      ],
      "metadata": {
        "id": "NVhkEeM-Im7W"
      },
      "execution_count": 27,
      "outputs": []
    },
    {
      "cell_type": "markdown",
      "source": [
        "# Порівняння інших алгоритмів (SVD++, NMF)"
      ],
      "metadata": {
        "id": "_bo8q0xoI0zf"
      }
    },
    {
      "cell_type": "code",
      "source": [
        "models = [SVD(), SVDpp(), NMF()]\n",
        "results = []\n",
        "for model in models:\n",
        "    scores = cross_validate(model, data_surprise, measures=['RMSE', 'MAE'], cv=5, verbose=True)\n",
        "    print(f\"Algorithm: {model.__class__.__name__}\")\n",
        "    print(f\"Mean RMSE: {sum(scores['test_rmse']) / len(scores['test_rmse'])}\")\n",
        "    print(f\"Mean MAE: {sum(scores['test_mae']) / len(scores['test_mae'])}\")\n",
        "    print(\"\\n\")\n",
        "    mean_rmse = sum(scores['test_rmse']) / len(scores['test_rmse'])\n",
        "    mean_mae = sum(scores['test_mae']) / len(scores['test_mae'])\n",
        "    results.append({'Algorithm': model.__class__.__name__, 'Mean RMSE': mean_rmse, 'Mean MAE': mean_mae})\n",
        ""
      ],
      "metadata": {
        "colab": {
          "base_uri": "https://localhost:8080/"
        },
        "id": "VEqitutgAcZ_",
        "outputId": "fa44e6b3-2906-4af0-eb58-324bc53a2654"
      },
      "execution_count": 32,
      "outputs": [
        {
          "output_type": "stream",
          "name": "stdout",
          "text": [
            "Evaluating RMSE, MAE of algorithm SVD on 5 split(s).\n",
            "\n",
            "                  Fold 1  Fold 2  Fold 3  Fold 4  Fold 5  Mean    Std     \n",
            "RMSE (testset)    0.9399  0.9370  0.9345  0.9435  0.9340  0.9378  0.0036  \n",
            "MAE (testset)     0.7398  0.7405  0.7351  0.7452  0.7356  0.7392  0.0037  \n",
            "Fit time          1.38    1.54    2.19    1.84    1.37    1.66    0.31    \n",
            "Test time         0.22    0.13    0.19    0.21    0.20    0.19    0.03    \n",
            "Algorithm: SVD\n",
            "Mean RMSE: 0.9377622225464599\n",
            "Mean MAE: 0.7392459149313865\n",
            "\n",
            "\n",
            "Evaluating RMSE, MAE of algorithm SVDpp on 5 split(s).\n",
            "\n",
            "                  Fold 1  Fold 2  Fold 3  Fold 4  Fold 5  Mean    Std     \n",
            "RMSE (testset)    0.9174  0.9247  0.9174  0.9246  0.9167  0.9201  0.0037  \n",
            "MAE (testset)     0.7180  0.7266  0.7194  0.7223  0.7221  0.7217  0.0030  \n",
            "Fit time          27.11   27.03   26.87   26.97   27.02   27.00   0.08    \n",
            "Test time         4.44    5.46    4.33    4.80    4.90    4.79    0.40    \n",
            "Algorithm: SVDpp\n",
            "Mean RMSE: 0.9201350039711581\n",
            "Mean MAE: 0.721688913181117\n",
            "\n",
            "\n",
            "Evaluating RMSE, MAE of algorithm NMF on 5 split(s).\n",
            "\n",
            "                  Fold 1  Fold 2  Fold 3  Fold 4  Fold 5  Mean    Std     \n",
            "RMSE (testset)    0.9666  0.9714  0.9648  0.9592  0.9548  0.9633  0.0058  \n",
            "MAE (testset)     0.7593  0.7631  0.7604  0.7553  0.7512  0.7579  0.0042  \n",
            "Fit time          1.99    1.92    2.35    2.75    2.03    2.21    0.31    \n",
            "Test time         0.10    0.20    0.20    0.21    0.11    0.16    0.05    \n",
            "Algorithm: NMF\n",
            "Mean RMSE: 0.9633404797714084\n",
            "Mean MAE: 0.757858696417047\n",
            "\n",
            "\n"
          ]
        }
      ]
    },
    {
      "cell_type": "markdown",
      "source": [
        "# Виведення результатів"
      ],
      "metadata": {
        "id": "hSvUosQ9MKq1"
      }
    },
    {
      "cell_type": "code",
      "source": [
        "\n",
        "results_df = pd.DataFrame(results)\n",
        "print(results_df)"
      ],
      "metadata": {
        "colab": {
          "base_uri": "https://localhost:8080/"
        },
        "id": "CfFSoorwJPBe",
        "outputId": "d199d201-cb31-4722-ac90-39c8ae6ea913"
      },
      "execution_count": 37,
      "outputs": [
        {
          "output_type": "stream",
          "name": "stdout",
          "text": [
            "  Algorithm  Mean RMSE  Mean MAE\n",
            "0       SVD   0.937762  0.739246\n",
            "1     SVDpp   0.920135  0.721689\n",
            "2       NMF   0.963340  0.757859\n"
          ]
        }
      ]
    },
    {
      "cell_type": "markdown",
      "source": [
        "# Візуалізація результатів"
      ],
      "metadata": {
        "id": "Z2o8nWN4MJ7-"
      }
    },
    {
      "cell_type": "code",
      "source": [
        "\n",
        "import matplotlib.pyplot as plt\n",
        "import seaborn as sns\n",
        "sns.barplot(x='Algorithm', y='Mean RMSE', data=results_df)\n",
        "plt.title('Comparison of Algorithms by Mean RMSE')\n",
        "plt.show()\n",
        "\n",
        "sns.barplot(x='Algorithm', y='Mean MAE', data=results_df)\n",
        "plt.title('Comparison of Algorithms by Mean MAE')\n",
        "plt.show()"
      ],
      "metadata": {
        "colab": {
          "base_uri": "https://localhost:8080/",
          "height": 927
        },
        "id": "BweYANHLJOZO",
        "outputId": "b22faa72-f013-401f-b000-e9ab5d2b4058"
      },
      "execution_count": 38,
      "outputs": [
        {
          "output_type": "display_data",
          "data": {
            "text/plain": [
              "<Figure size 640x480 with 1 Axes>"
            ],
            "image/png": "[encoded data removed]"
          },
          "metadata": {}
        },
        {
          "output_type": "display_data",
          "data": {
            "text/plain": [
              "<Figure size 640x480 with 1 Axes>"
            ],
            "image/png": "[encoded data removed]"
          },
          "metadata": {}
        }
      ]
    }
  ]
}